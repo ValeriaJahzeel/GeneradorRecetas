{
 "cells": [
  {
   "cell_type": "code",
   "execution_count": 4,
   "metadata": {},
   "outputs": [
    {
     "name": "stdout",
     "output_type": "stream",
     "text": [
      "Se han guardado 90 objetos en el directorio ../salida/prueba1\n"
     ]
    }
   ],
   "source": [
    "import cv2\n",
    "import numpy as np\n",
    "import os\n",
    "\n",
    "image_path = '../img/aaa.jpg'\n",
    "\n",
    "output_dir = '../salida/prueba1'\n",
    "\n",
    "if not os.path.exists(output_dir):\n",
    "    os.makedirs(output_dir)\n",
    "\n",
    "image = cv2.imread(image_path)\n",
    "\n",
    "if image is None:\n",
    "    print(f\"No se pudo cargar la imagen en la ruta: {image_path}\")\n",
    "else:\n",
    "    gray = cv2.cvtColor(image, cv2.COLOR_BGR2GRAY)\n",
    "\n",
    "    blurred = cv2.GaussianBlur(gray, (5, 5), 0)\n",
    "\n",
    "    _, thresh = cv2.threshold(blurred, 127, 255, cv2.THRESH_BINARY_INV)\n",
    "\n",
    "    contours, _ = cv2.findContours(thresh, cv2.RETR_EXTERNAL, cv2.CHAIN_APPROX_SIMPLE)\n",
    "\n",
    "    for i, contour in enumerate(contours):\n",
    "        x, y, w, h = cv2.boundingRect(contour)\n",
    "     \n",
    "        if(w < 50 or h < 50):\n",
    "            continue\n",
    "       \n",
    "        crop_img = image[y:y+h, x:x+w]\n",
    "\n",
    "        output_path = os.path.join(output_dir, f'object_{i}.jpg')\n",
    "\n",
    "        cv2.imwrite(output_path, crop_img)\n",
    "\n",
    "    print(f\"Se han guardado {len(contours)} objetos en el directorio {output_dir}\")\n"
   ]
  }
 ],
 "metadata": {
  "kernelspec": {
   "display_name": "Python 3",
   "language": "python",
   "name": "python3"
  },
  "language_info": {
   "codemirror_mode": {
    "name": "ipython",
    "version": 3
   },
   "file_extension": ".py",
   "mimetype": "text/x-python",
   "name": "python",
   "nbconvert_exporter": "python",
   "pygments_lexer": "ipython3",
   "version": "3.11.1"
  }
 },
 "nbformat": 4,
 "nbformat_minor": 2
}
